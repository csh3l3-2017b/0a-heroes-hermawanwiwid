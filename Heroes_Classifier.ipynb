{
 "cells": [
  {
   "cell_type": "markdown",
   "metadata": {},
   "source": [
    "# Heroes Classifier\n",
    "Disusun guna memenuhi tugas 0.a mata kuliah Pembelajaran Mesin\n",
    "\n",
    "   * Nama : Hermawan Wiwit N.\n",
    "   * NIM  : 1301154247\n",
    "   * Kelas: IF 39-02"
   ]
  },
  {
   "cell_type": "code",
   "execution_count": 2,
   "metadata": {
    "collapsed": true
   },
   "outputs": [],
   "source": [
    "import pandas as pd"
   ]
  },
  {
   "cell_type": "code",
   "execution_count": 4,
   "metadata": {},
   "outputs": [
    {
     "data": {
      "text/html": [
       "<div>\n",
       "<style>\n",
       "    .dataframe thead tr:only-child th {\n",
       "        text-align: right;\n",
       "    }\n",
       "\n",
       "    .dataframe thead th {\n",
       "        text-align: left;\n",
       "    }\n",
       "\n",
       "    .dataframe tbody tr th {\n",
       "        vertical-align: top;\n",
       "    }\n",
       "</style>\n",
       "<table border=\"1\" class=\"dataframe\">\n",
       "  <thead>\n",
       "    <tr style=\"text-align: right;\">\n",
       "      <th></th>\n",
       "      <th>name</th>\n",
       "      <th>movementSpeed</th>\n",
       "      <th>physicalAttack</th>\n",
       "      <th>armor</th>\n",
       "      <th>hp</th>\n",
       "      <th>mana</th>\n",
       "    </tr>\n",
       "  </thead>\n",
       "  <tbody>\n",
       "    <tr>\n",
       "      <th>0</th>\n",
       "      <td>Layla</td>\n",
       "      <td>270</td>\n",
       "      <td>118</td>\n",
       "      <td>15</td>\n",
       "      <td>2500</td>\n",
       "      <td>424</td>\n",
       "    </tr>\n",
       "    <tr>\n",
       "      <th>1</th>\n",
       "      <td>Cyclops</td>\n",
       "      <td>250</td>\n",
       "      <td>107</td>\n",
       "      <td>18</td>\n",
       "      <td>2461</td>\n",
       "      <td>500</td>\n",
       "    </tr>\n",
       "    <tr>\n",
       "      <th>2</th>\n",
       "      <td>Minotaur</td>\n",
       "      <td>265</td>\n",
       "      <td>123</td>\n",
       "      <td>25</td>\n",
       "      <td>2705</td>\n",
       "      <td>0</td>\n",
       "    </tr>\n",
       "    <tr>\n",
       "      <th>3</th>\n",
       "      <td>Saber</td>\n",
       "      <td>265</td>\n",
       "      <td>121</td>\n",
       "      <td>17</td>\n",
       "      <td>2475</td>\n",
       "      <td>443</td>\n",
       "    </tr>\n",
       "    <tr>\n",
       "      <th>4</th>\n",
       "      <td>Roger</td>\n",
       "      <td>235</td>\n",
       "      <td>120</td>\n",
       "      <td>22</td>\n",
       "      <td>2580</td>\n",
       "      <td>450</td>\n",
       "    </tr>\n",
       "  </tbody>\n",
       "</table>\n",
       "</div>"
      ],
      "text/plain": [
       "       name  movementSpeed  physicalAttack  armor    hp  mana\n",
       "0     Layla            270             118     15  2500   424\n",
       "1   Cyclops            250             107     18  2461   500\n",
       "2  Minotaur            265             123     25  2705     0\n",
       "3     Saber            265             121     17  2475   443\n",
       "4     Roger            235             120     22  2580   450"
      ]
     },
     "execution_count": 4,
     "metadata": {},
     "output_type": "execute_result"
    }
   ],
   "source": [
    "test = pd.read_csv('test.csv')\n",
    "test.head()"
   ]
  },
  {
   "cell_type": "markdown",
   "metadata": {},
   "source": [
    "Membaca file 'test.csv' lalu menampilkan lima data teratas"
   ]
  },
  {
   "cell_type": "code",
   "execution_count": 5,
   "metadata": {
    "collapsed": true
   },
   "outputs": [],
   "source": [
    "role= []"
   ]
  },
  {
   "cell_type": "code",
   "execution_count": 7,
   "metadata": {
    "collapsed": true
   },
   "outputs": [],
   "source": [
    "for x in range(len(test)):\n",
    "    if test[\"movementSpeed\"][x]>=270:\n",
    "        role.append(\"MARKSMAN\")\n",
    "    elif test[\"mana\"][x]>=500:\n",
    "        role.append(\"MAGE\")\n",
    "    elif test[\"armor\"][x]>=25:\n",
    "        role.append(\"TANK\")\n",
    "    elif test[\"physicalAttack\"][x]>=121:\n",
    "        role.append(\"ASSASSIN\")\n",
    "    elif test[\"hp\"][x]>=2580:\n",
    "        role.append(\"FIGHTER\")\n",
    "    else:\n",
    "        role.append(\"SUPPORT\")"
   ]
  },
  {
   "cell_type": "markdown",
   "metadata": {},
   "source": [
    "Misinya adalah menentukan, apa peran dari masing-masing hero yang membutuhkan bantuan dari program, dengan aturan sebagai berikut secara berurutan (*hero mendapatkan peran yang paling awal memenuhi syarat*):\n",
    "1. Heroes yang memiliki movementSpeed >= 270, akan mendapat peran sebagai MARKSMAN (huruf kapital semua)\n",
    "2. Heroes dengan mana >= 500, akan mendapat peran sebagai MAGE (huruf kapital semua)\n",
    "3. Heroes dengan armor >= 25, akan mendapat peran sebagai TANK (huruf kapital semua)\n",
    "4. Heroes dengan physicalAttack >= 121, akan mendapat peran sebagai ASSASSIN (huruf kapital semua)\n",
    "5. Heroes dengan hp >= 2580, akan mendapat peran sebagai FIGHTER (huruf kapital semua)\n",
    "6. Heroes lainnya akan mendapat peran sebagai SUPPORT (huruf kapital semua)\n",
    "\n",
    "Hasil klasifikasi ditampung ke dalam array bernama **'role'**. Jika dikehendaki, array **'role'** yang berisi hasil klasifikasi dapat ditampilakan dengan perintah sebagai berikut (dengan menghilangkan simbol '#'):"
   ]
  },
  {
   "cell_type": "code",
   "execution_count": 9,
   "metadata": {},
   "outputs": [],
   "source": [
    "#role"
   ]
  },
  {
   "cell_type": "code",
   "execution_count": 10,
   "metadata": {
    "collapsed": true
   },
   "outputs": [],
   "source": [
    "prediction = pd.DataFrame({\n",
    "    \"name\": test[\"name\"],\n",
    "    \"role\": role\n",
    "})\n",
    "prediction.to_csv('prediction.csv', index=False)"
   ]
  },
  {
   "cell_type": "markdown",
   "metadata": {},
   "source": [
    "Pada akhir kondisi, hasil yang ada di dalam array **'role'** dimasukkan ke dalam file **'prediction.csv'**, yang berisi nama hero dan rolenya.\n",
    "\n",
    "## Terimakasih."
   ]
  },
  {
   "cell_type": "code",
   "execution_count": null,
   "metadata": {
    "collapsed": true
   },
   "outputs": [],
   "source": []
  }
 ],
 "metadata": {
  "kernelspec": {
   "display_name": "Python 3",
   "language": "python",
   "name": "python3"
  },
  "language_info": {
   "codemirror_mode": {
    "name": "ipython",
    "version": 3
   },
   "file_extension": ".py",
   "mimetype": "text/x-python",
   "name": "python",
   "nbconvert_exporter": "python",
   "pygments_lexer": "ipython3",
   "version": "3.6.3"
  }
 },
 "nbformat": 4,
 "nbformat_minor": 2
}
